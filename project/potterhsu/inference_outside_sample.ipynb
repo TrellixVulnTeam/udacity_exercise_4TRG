{
 "cells": [
  {
   "cell_type": "code",
   "execution_count": 1,
   "metadata": {},
   "outputs": [
    {
     "name": "stdout",
     "output_type": "stream",
     "text": [
      "Populating the interactive namespace from numpy and matplotlib\n"
     ]
    }
   ],
   "source": [
    "import tensorflow as tf\n",
    "from model import Model\n",
    "%pylab inline"
   ]
  },
  {
   "cell_type": "code",
   "execution_count": 2,
   "metadata": {},
   "outputs": [
    {
     "name": "stdout",
     "output_type": "stream",
     "text": [
      "(64, 64)\n"
     ]
    }
   ],
   "source": [
    "from PIL import Image\n",
    "im_path = '../dataset/svhn/520.jpg'\n",
    "im = Image.open(im_path)\n",
    "width, height = im.size\n",
    "\n",
    "resizedIm = im.resize((64, 64),Image.ANTIALIAS )\n",
    "resizedIm.save(r'../dataset/svhn/1_1.jpg')\n",
    "im1 = Image.open('../dataset/svhn/1_1.jpg')\n",
    "print(im1.size)"
   ]
  },
  {
   "cell_type": "code",
   "execution_count": 14,
   "metadata": {},
   "outputs": [
    {
     "data": {
      "text/plain": [
       "(165, 220, 3)"
      ]
     },
     "execution_count": 14,
     "metadata": {},
     "output_type": "execute_result"
    }
   ],
   "source": [
    "im.show()\n",
    "array(im).shape"
   ]
  },
  {
   "cell_type": "code",
   "execution_count": 4,
   "metadata": {
    "code_folding": []
   },
   "outputs": [],
   "source": [
    "path_to_image_files = ['../dataset/svhn/1_1.jpg']\n",
    "images = []\n",
    "\n",
    "for path_to_image_file in path_to_image_files:\n",
    "    image = tf.image.decode_jpeg(tf.read_file(path_to_image_file), channels=3)    \n",
    "    image = tf.reshape(image, (64, 64,3))\n",
    "    image = tf.image.convert_image_dtype(image, dtype=tf.float32)\n",
    "    image = tf.multiply(tf.subtract(image, 0.5), 2)\n",
    "    image = tf.image.resize_images(image, [54, 54])\n",
    "    images.append(image)\n",
    "images = tf.stack(images)"
   ]
  },
  {
   "cell_type": "code",
   "execution_count": 5,
   "metadata": {},
   "outputs": [],
   "source": [
    "length_logits, digits_logits = Model.inference(images, drop_rate=0.0)\n",
    "length_predictions = tf.argmax(length_logits, axis=1)\n",
    "digits_predictions = tf.argmax(digits_logits, axis=2)\n",
    "digits_predictions_string = tf.reduce_join(tf.as_string(digits_predictions), axis=1)"
   ]
  },
  {
   "cell_type": "code",
   "execution_count": 6,
   "metadata": {},
   "outputs": [],
   "source": [
    "sess = tf.InteractiveSession()"
   ]
  },
  {
   "cell_type": "code",
   "execution_count": 7,
   "metadata": {},
   "outputs": [
    {
     "name": "stdout",
     "output_type": "stream",
     "text": [
      "INFO:tensorflow:Restoring parameters from logs/train\\latest.ckpt\n"
     ]
    }
   ],
   "source": [
    "restorer = tf.train.Saver()\n",
    "checkpoint_path = tf.train.latest_checkpoint('logs/train')\n",
    "restorer.restore(sess, checkpoint_path)"
   ]
  },
  {
   "cell_type": "code",
   "execution_count": 8,
   "metadata": {
    "scrolled": false
   },
   "outputs": [],
   "source": [
    "length_predictions_val, digits_predictions_string_val, images_val = sess.run([length_predictions, digits_predictions_string, images])\n",
    "images_val = (images_val / 2.0) + 0.5"
   ]
  },
  {
   "cell_type": "code",
   "execution_count": 9,
   "metadata": {},
   "outputs": [
    {
     "name": "stdout",
     "output_type": "stream",
     "text": [
      "length: 3\n",
      "digits: b'5201010'\n"
     ]
    },
    {
     "data": {
      "image/png": "[encoded data removed]",
      "text/plain": [
       "<matplotlib.figure.Figure at 0x1c6935415f8>"
      ]
     },
     "metadata": {},
     "output_type": "display_data"
    }
   ],
   "source": [
    "idx = 0\n",
    "image_val = images_val[idx]\n",
    "length_prediction_val = length_predictions_val[idx]\n",
    "digits_prediction_string_val = digits_predictions_string_val[idx]\n",
    "imshow(images_val[idx])\n",
    "print ('length: %d' % length_prediction_val)\n",
    "print ('digits: %s' % digits_prediction_string_val)"
   ]
  },
  {
   "cell_type": "code",
   "execution_count": 10,
   "metadata": {},
   "outputs": [],
   "source": [
    "sess.close()"
   ]
  },
  {
   "cell_type": "code",
   "execution_count": 12,
   "metadata": {},
   "outputs": [
    {
     "data": {
      "text/plain": [
       "<tf.Tensor 'strided_slice:0' shape=(54, 54, 3) dtype=float32>"
      ]
     },
     "execution_count": 12,
     "metadata": {},
     "output_type": "execute_result"
    }
   ],
   "source": [
    "images[0]"
   ]
  },
  {
   "cell_type": "code",
   "execution_count": null,
   "metadata": {
    "collapsed": true
   },
   "outputs": [],
   "source": []
  }
 ],
 "metadata": {
  "kernelspec": {
   "display_name": "Python 3",
   "language": "python",
   "name": "python3"
  },
  "language_info": {
   "codemirror_mode": {
    "name": "ipython",
    "version": 3
   },
   "file_extension": ".py",
   "mimetype": "text/x-python",
   "name": "python",
   "nbconvert_exporter": "python",
   "pygments_lexer": "ipython3",
   "version": "3.6.3"
  }
 },
 "nbformat": 4,
 "nbformat_minor": 1
}
