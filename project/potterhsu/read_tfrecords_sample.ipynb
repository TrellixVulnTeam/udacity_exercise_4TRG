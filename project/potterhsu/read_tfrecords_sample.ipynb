{
 "cells": [
  {
   "cell_type": "code",
   "execution_count": 1,
   "metadata": {},
   "outputs": [
    {
     "name": "stdout",
     "output_type": "stream",
     "text": [
      "Populating the interactive namespace from numpy and matplotlib\n"
     ]
    }
   ],
   "source": [
    "import tensorflow as tf\n",
    "from meta import Meta\n",
    "%pylab inline\n",
    "from matplotlib.patches import Rectangle"
   ]
  },
  {
   "cell_type": "code",
   "execution_count": 9,
   "metadata": {},
   "outputs": [],
   "source": [
    "filename = '../dataset/svhn/test.tfrecords'\n",
    "filename_queue = tf.train.string_input_producer([filename], num_epochs=None)"
   ]
  },
  {
   "cell_type": "code",
   "execution_count": 10,
   "metadata": {},
   "outputs": [],
   "source": [
    "reader = tf.TFRecordReader()\n",
    "_, serialized_example = reader.read(filename_queue)\n",
    "features = tf.parse_single_example(\n",
    "  serialized_example,\n",
    "  features={\n",
    "      'image': tf.FixedLenFeature([], tf.string),\n",
    "      'length': tf.FixedLenFeature([], tf.int64),\n",
    "      'digits': tf.FixedLenFeature([5], tf.int64)\n",
    "  })"
   ]
  },
  {
   "cell_type": "code",
   "execution_count": 11,
   "metadata": {},
   "outputs": [],
   "source": [
    "image = tf.decode_raw(features['image'], tf.uint8)\n",
    "image = tf.reshape(image, [64, 64, 3])\n",
    "length = features['length']\n",
    "digits = features['digits']"
   ]
  },
  {
   "cell_type": "code",
   "execution_count": 12,
   "metadata": {},
   "outputs": [],
   "source": [
    "sess = tf.InteractiveSession()\n",
    "coord = tf.train.Coordinator()\n",
    "threads = tf.train.start_queue_runners(coord=coord)"
   ]
  },
  {
   "cell_type": "code",
   "execution_count": 15,
   "metadata": {},
   "outputs": [
    {
     "name": "stdout",
     "output_type": "stream",
     "text": [
      "length: 1, digits: 5,10,10,10,10\n"
     ]
    },
    {
     "data": {
      "text/plain": [
       "<matplotlib.image.AxesImage at 0x1cfec441d30>"
      ]
     },
     "execution_count": 15,
     "metadata": {},
     "output_type": "execute_result"
    },
    {
     "data": {
      "image/png": "[encoded data removed]",
      "text/plain": [
       "<matplotlib.figure.Figure at 0x1cfdbde2908>"
      ]
     },
     "metadata": {},
     "output_type": "display_data"
    }
   ],
   "source": [
    "(image_val, length_val, digits_val) = sess.run([image, length, digits])\n",
    "\n",
    "print( 'length: %d, digits: %d,%d,%d,%d,%d' % (\n",
    "    length_val, digits_val[0], digits_val[1], digits_val[2], digits_val[3], digits_val[4]))\n",
    "\n",
    "imshow(image_val)"
   ]
  },
  {
   "cell_type": "code",
   "execution_count": 18,
   "metadata": {},
   "outputs": [
    {
     "name": "stdout",
     "output_type": "stream",
     "text": [
      "num_train_examples: 212003\n",
      "num_val_examples: 23751\n",
      "num_test_examples: 13068\n"
     ]
    }
   ],
   "source": [
    "meta = Meta()\n",
    "meta.load('../dataset/svhn/meta.json')\n",
    "print( 'num_train_examples: %d' % meta.num_train_examples)\n",
    "print( 'num_val_examples: %d' % meta.num_val_examples)\n",
    "print( 'num_test_examples: %d' % meta.num_test_examples)"
   ]
  },
  {
   "cell_type": "code",
   "execution_count": 19,
   "metadata": {},
   "outputs": [],
   "source": [
    "coord.request_stop()\n",
    "coord.join(threads)\n",
    "sess.close()"
   ]
  },
  {
   "cell_type": "code",
   "execution_count": null,
   "metadata": {
    "collapsed": true
   },
   "outputs": [],
   "source": []
  }
 ],
 "metadata": {
  "kernelspec": {
   "display_name": "Python 3",
   "language": "python",
   "name": "python3"
  },
  "language_info": {
   "codemirror_mode": {
    "name": "ipython",
    "version": 3
   },
   "file_extension": ".py",
   "mimetype": "text/x-python",
   "name": "python",
   "nbconvert_exporter": "python",
   "pygments_lexer": "ipython3",
   "version": "3.6.3"
  }
 },
 "nbformat": 4,
 "nbformat_minor": 2
}
