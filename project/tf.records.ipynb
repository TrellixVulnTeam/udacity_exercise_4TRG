{
 "cells": [
  {
   "cell_type": "code",
   "execution_count": 6,
   "metadata": {},
   "outputs": [
    {
     "name": "stdout",
     "output_type": "stream",
     "text": [
      "23751\n"
     ]
    }
   ],
   "source": [
    "# the dataset is broken so i run the script first.it tikes a lont tiem to run.but when is converage the test dataset, come up a \n",
    "#error, so i run this to get the element of json  \n",
    "#TFRcord文件\n",
    "TRAIN_FILE = 'train.tfrecords'\n",
    "VALIDATION_FILE = 'validation.tfrecords'\n",
    "tf_records_filenames = '../dataset/svhn/val.tfrecords'\n",
    "\n",
    "c = 0\n",
    "\n",
    "for record in tf.python_io.tf_record_iterator(tf_records_filenames):\n",
    "     c += 1\n",
    "print(c)"
   ]
  }
 ],
 "metadata": {
  "kernelspec": {
   "display_name": "Python 3",
   "language": "python",
   "name": "python3"
  },
  "language_info": {
   "codemirror_mode": {
    "name": "ipython",
    "version": 3
   },
   "file_extension": ".py",
   "mimetype": "text/x-python",
   "name": "python",
   "nbconvert_exporter": "python",
   "pygments_lexer": "ipython3",
   "version": "3.6.3"
  }
 },
 "nbformat": 4,
 "nbformat_minor": 2
}
