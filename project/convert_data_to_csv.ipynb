{
 "cells": [
  {
   "cell_type": "code",
   "execution_count": 1,
   "metadata": {},
   "outputs": [],
   "source": [
    "from __future__ import print_function\n",
    "import numpy as np\n",
    "import time\n",
    "import math\n",
    "#import tensorflow as tf\n",
    "from six.moves import cPickle as pickle\n",
    "from six.moves import range\n",
    "import csv\n",
    "import os\n",
    "from PIL import Image\n",
    "from scipy.misc import imsave"
   ]
  },
  {
   "cell_type": "code",
   "execution_count": 2,
   "metadata": {},
   "outputs": [],
   "source": [
    "# convert .mat file to .csv file to get python file that converts .mat to .csv file\n",
    "# copy the directory downloaded in the current folder\n",
    "# RUN ONLY ONCE take so long time to convert escpciall for extra\n",
    "#%run ./Py-Gsvhn-DigitStruct-Reader/digitStructMatToCsv.py ./train/digitStruct.mat ./train/digitStruct.csv\n",
    "#%run ./Py-Gsvhn-DigitStruct-Reader/digitStructMatToCsv.py ./test/digitStruct.mat ./test/digitStruct.csv\n",
    "#%run ./Py-Gsvhn-DigitStruct-Reader/digitStructMatToCsv.py ./extra/digitStruct.mat ./extra/digitStruct.csv"
   ]
  },
  {
   "cell_type": "code",
   "execution_count": 2,
   "metadata": {},
   "outputs": [],
   "source": [
    "# convert digitStruct.csv to a dictionary for easier use\n",
    "def make_dict(dir_name):\n",
    "    filename = 'digitStruct.csv'\n",
    "    fullpath = os.path.join(dir_name, filename)\n",
    "    f=open(fullpath,'r')\n",
    "\n",
    "    reader=csv.reader(f)\n",
    "    counter=0\n",
    "    mystruct={}\n",
    "    for row in reader:\n",
    "        if counter==0:\n",
    "            #print header\n",
    "            #print (row)\n",
    "            counter=counter+1\n",
    "            continue\n",
    "        else:\n",
    "            #\n",
    "            if row[0] in mystruct.keys():\n",
    "                tmp=mystruct[row[0]]\n",
    "                if row[1]=='10':\n",
    "                    row[1]='0'\n",
    "                label=tmp['label']\n",
    "                label.append(int(row[1]))\n",
    "                tmp['label']=label\n",
    "                tmp['len_label']=len(label)\n",
    "                tmp['left']=min(tmp['left'],int(row[2]))\n",
    "                tmp['top']=min(tmp['top'],int(row[3]))\n",
    "                tmp['right']=max(tmp['right'],int(row[2])+int(row[4]))\n",
    "                tmp['bottom']=max(tmp['bottom'],int(row[3])+int(row[5]))\n",
    "            else:\n",
    "                temp={}\n",
    "                temp['name']=row[0]\n",
    "                if row[1]=='10':\n",
    "                    row[1]='0'\n",
    "                label=[]\n",
    "                label.append(int(row[1]))\n",
    "                temp['label']=label\n",
    "                temp['len_label']=len(label)\n",
    "                temp['left']=int(row[2])\n",
    "                temp['top']=int(row[3])\n",
    "                temp['width']=int(row[4])\n",
    "                temp['height']=int(row[5])\n",
    "                temp['bottom']=int(row[3])+int(row[5])\n",
    "                temp['right']=int(row[2])+int(row[4])\n",
    "                mystruct[row[0]]=temp\n",
    "    f.close()\n",
    "\n",
    "    return mystruct"
   ]
  },
  {
   "cell_type": "code",
   "execution_count": 3,
   "metadata": {},
   "outputs": [],
   "source": [
    "# create dictionary from train: digitStruct.csv file\n",
    "train_dir='train'\n",
    "train_dict = make_dict(train_dir)"
   ]
  },
  {
   "cell_type": "code",
   "execution_count": 4,
   "metadata": {},
   "outputs": [
    {
     "name": "stdout",
     "output_type": "stream",
     "text": [
      "{'name': '29930.png', 'label': [1, 3, 5, 4, 5, 8], 'len_label': 6, 'left': 18, 'top': 3, 'width': 5, 'height': 18, 'bottom': 22, 'right': 64}\n",
      "min: 0, max: 6\n"
     ]
    }
   ],
   "source": [
    "# DEBUG CODE: can be ignored\n",
    "mykeys = train_dict.keys()\n",
    "key_list=list(mykeys)\n",
    "min_len = 0\n",
    "max_len = 0\n",
    "#print(type(mykeys))\n",
    "for idx in range(len(mykeys)):\n",
    "    k=key_list[idx]\n",
    "    tmpdict=train_dict[k]\n",
    "    #print(tmpdict)\n",
    "\n",
    "    filename=tmpdict['name']\n",
    "    label_list=tmpdict['label']\n",
    "    if len(label_list)>5:\n",
    "        print(tmpdict)\n",
    "    if len(label_list)<min_len:\n",
    "        min_len = len(label_list)\n",
    "    if len(label_list)>max_len:\n",
    "        max_len = len(label_list)\n",
    "print('min: %d, max: %d'%(min_len, max_len))"
   ]
  },
  {
   "cell_type": "code",
   "execution_count": 7,
   "metadata": {},
   "outputs": [],
   "source": [
    "# create dictionary from test: digitStruct.csv file\n",
    "test_dir='test'\n",
    "test_dict = make_dict(test_dir)\n",
    "# create dictionary from extra: digitStruct.csv file\n",
    "extra_dir='extra'\n",
    "extra_dict = make_dict(extra_dir)"
   ]
  },
  {
   "cell_type": "code",
   "execution_count": 8,
   "metadata": {},
   "outputs": [],
   "source": [
    "# define a function that calculates minimum and maximum length of sequence in images from the images dictionary\n",
    "def get_min_max_len(my_dict):\n",
    "    mykeys = my_dict.keys()\n",
    "    \n",
    "    min_len = 0\n",
    "    max_len = 0\n",
    "    for idx in mykeys:\n",
    "        tmpdict=my_dict[idx]\n",
    "        filename=tmpdict['name']\n",
    "        label_list=tmpdict['label']\n",
    "        if len(label_list)<min_len:\n",
    "            min_len = len(label_list)\n",
    "        if len(label_list)>max_len:\n",
    "            max_len = len(label_list)\n",
    "    #print('min: %d, max: %d'%(min_len, max_len)) \n",
    "    return min_len, max_len"
   ]
  },
  {
   "cell_type": "code",
   "execution_count": 9,
   "metadata": {
    "scrolled": true
   },
   "outputs": [
    {
     "name": "stdout",
     "output_type": "stream",
     "text": [
      "train min: 0, train max: 6\n",
      "test min: 0,  test max: 5\n",
      "extra min: 0, extra max: 5\n"
     ]
    }
   ],
   "source": [
    "train_min_len, train_max_len = get_min_max_len(train_dict)\n",
    "test_min_len,  test_max_len  = get_min_max_len(test_dict)\n",
    "extra_min_len, extra_max_len = get_min_max_len(extra_dict)\n",
    "print('train min: %d, train max: %d'%(train_min_len, train_max_len)) \n",
    "print('test min: %d,  test max: %d'%(test_min_len, test_max_len)) \n",
    "print('extra min: %d, extra max: %d'%(extra_min_len, extra_max_len)) "
   ]
  },
  {
   "cell_type": "code",
   "execution_count": 40,
   "metadata": {},
   "outputs": [],
   "source": [
    "# define a function that calculates length/digit frequencies in the images dictionary\n",
    "def get_frequencies(my_dict, max_l, return_max_arr=False):\n",
    "    mykeys = my_dict.keys()\n",
    "    freqs_l = np.zeros([max_l+1], dtype=int)#frequencies of length\n",
    "    freqs_d = np.zeros([10], dtype=int)#frequencies of digits\n",
    "    max_arr = []\n",
    "    \n",
    "    for idx in mykeys:\n",
    "        tmpdict=my_dict[idx]\n",
    "        filename=tmpdict['name']\n",
    "        label_list=tmpdict['label']\n",
    "        length=len(label_list)\n",
    "        freqs_l[length]=freqs_l[length]+1\n",
    "        \n",
    "        for jdx in range(length):\n",
    "            digit=label_list[jdx]\n",
    "            freqs_d[digit]=freqs_d[digit]+1\n",
    "        if return_max_arr == True and length == max_l:\n",
    "            max_arr.append(k)\n",
    "    \n",
    "    return freqs_l, freqs_d, max_arr\n",
    "tr_freqs_l, tr_freqs_d, tr_outliers = get_frequencies(train_dict,train_max_len, True)\n",
    "te_freqs_l, te_freqs_d, te_outliers = get_frequencies(test_dict, test_max_len)\n",
    "ex_freqs_l, ex_freqs_d, ex_outliers = get_frequencies(extra_dict, extra_max_len)"
   ]
  },
  {
   "cell_type": "code",
   "execution_count": 34,
   "metadata": {
    "scrolled": true
   },
   "outputs": [
    {
     "name": "stdout",
     "output_type": "stream",
     "text": [
      "[    0  5137 18130  8691  1434     9     1]\n",
      "[ 4948 13861 10585  8497  7458  6882  5727  5595  5045  4659]\n",
      "['33402.png']\n",
      "[   0 2483 8356 2081  146    2]\n",
      "[1744 5099 4149 2882 2523 2384 1977 2019 1660 1595]\n",
      "[]\n",
      "[     0   9385  71726 106789  14338    115]\n",
      "[45550 90560 74740 60765 50633 53490 41582 43997 35358 34456]\n",
      "[]\n"
     ]
    }
   ],
   "source": [
    "# print the frequencies for length/characters and outliers for train data(train_max_len = 6)\n",
    "print(tr_freqs_l) \n",
    "print(tr_freqs_d)\n",
    "print(tr_outliers)\n",
    "print(te_freqs_l)\n",
    "print(te_freqs_d)\n",
    "print(te_outliers)\n",
    "print(ex_freqs_l)\n",
    "print(ex_freqs_d)\n",
    "print(ex_outliers)"
   ]
  },
  {
   "cell_type": "code",
   "execution_count": 14,
   "metadata": {},
   "outputs": [
    {
     "data": {
      "image/png": "[encoded data removed]",
      "text/plain": [
       "<matplotlib.figure.Figure at 0x25df6f94ba8>"
      ]
     },
     "metadata": {},
     "output_type": "display_data"
    }
   ],
   "source": [
    "# plot histogram of labels in train set\n",
    "ind = np.array([1,2,3,4,5] )   # the x locations for the groups\n",
    "width = 0.75       # the width of the bars: can also be len(x) sequence\n",
    "\n",
    "p1 = plt.bar(ind, tr_freqs_l[1:6], 0.75, color='g')\n",
    "plt.xlabel('Sequence Length')\n",
    "plt.ylabel('Frequency')\n",
    "plt.title('Histogram of labels in training set')\n",
    "plt.xticks(ind + width/2., ('1', '2', '3', '4', '5'))\n",
    "plt.yscale('log')\n",
    "plt.show()"
   ]
  },
  {
   "cell_type": "code",
   "execution_count": 15,
   "metadata": {},
   "outputs": [
    {
     "data": {
      "image/png": "[encoded data removed]",
      "text/plain": [
       "<matplotlib.figure.Figure at 0x25df71b16d8>"
      ]
     },
     "metadata": {},
     "output_type": "display_data"
    }
   ],
   "source": [
    "# plot histogram of labels in test set\n",
    "ind = np.array([1,2,3,4,5] )   # the x locations for the groups\n",
    "width = 0.75       # the width of the bars: can also be len(x) sequence\n",
    "\n",
    "p1 = plt.bar(ind, te_freqs_l[1:6], 0.75, color='b')\n",
    "plt.xlabel('Sequence Length')\n",
    "plt.ylabel('Frequency')\n",
    "plt.title('Histogram of labels in testing set')\n",
    "plt.xticks(ind + width/2., ('1', '2', '3', '4', '5'))\n",
    "plt.yscale('log')\n",
    "plt.show()"
   ]
  },
  {
   "cell_type": "code",
   "execution_count": 16,
   "metadata": {},
   "outputs": [
    {
     "data": {
      "image/png": "[encoded data removed]",
      "text/plain": [
       "<matplotlib.figure.Figure at 0x25df8396d30>"
      ]
     },
     "metadata": {},
     "output_type": "display_data"
    }
   ],
   "source": [
    "# plot histogram of labels in extra set\n",
    "ind = np.array([1,2,3,4,5] )   # the x locations for the groups\n",
    "width = 0.75       # the width of the bars: can also be len(x) sequence\n",
    "\n",
    "p1 = plt.bar(ind, ex_freqs_l[1:6], 0.75, color='r')\n",
    "plt.xlabel('Sequence Length')\n",
    "plt.ylabel('Frequency')\n",
    "plt.title('Histogram of labels in extra set')\n",
    "plt.xticks(ind + width/2., ('1', '2', '3', '4', '5'))\n",
    "plt.yscale('log')\n",
    "plt.show()"
   ]
  },
  {
   "cell_type": "code",
   "execution_count": 17,
   "metadata": {},
   "outputs": [
    {
     "data": {
      "text/plain": [
       "array([ 14522,  89856, 115480,  15772,    124])"
      ]
     },
     "execution_count": 17,
     "metadata": {},
     "output_type": "execute_result"
    }
   ],
   "source": [
    "# frequencies of lengths in extra+train dataset\n",
    "ex_freqs_l[1:6]+tr_freqs_l[1:6]"
   ]
  },
  {
   "cell_type": "code",
   "execution_count": 18,
   "metadata": {},
   "outputs": [
    {
     "data": {
      "image/png": "[encoded data removed]",
      "text/plain": [
       "<matplotlib.figure.Figure at 0x25df8538e10>"
      ]
     },
     "metadata": {},
     "output_type": "display_data"
    }
   ],
   "source": [
    "# plot histogram of labels in train+extra set\n",
    "ind = np.array([1,2,3,4,5] )   # the x locations for the groups\n",
    "width = 0.75       # the width of the bars: can also be len(x) sequence\n",
    "\n",
    "p1 = plt.bar(ind, ex_freqs_l[1:6]+tr_freqs_l[1:6], 0.75, color='c')\n",
    "plt.xlabel('Sequence Length')\n",
    "plt.ylabel('Frequency')\n",
    "plt.title('Histogram of labels in extra + train set')\n",
    "plt.xticks(ind + width/2., ('1', '2', '3', '4', '5'))\n",
    "plt.yscale('log')\n",
    "plt.show()"
   ]
  },
  {
   "cell_type": "code",
   "execution_count": 19,
   "metadata": {},
   "outputs": [
    {
     "data": {
      "image/png": "[encoded data removed]",
      "text/plain": [
       "<matplotlib.figure.Figure at 0x25df86e1be0>"
      ]
     },
     "metadata": {},
     "output_type": "display_data"
    }
   ],
   "source": [
    "# plot histogram of characters in train set\n",
    "ind = np.array([0,1,2,3,4,5,6,7,8,9])   # the x locations for the groups\n",
    "width = 0.75       # the width of the bars: can also be len(x) sequence\n",
    "\n",
    "p1 = plt.bar(ind, tr_freqs_d, 0.75, color='g')\n",
    "plt.xlabel('Character')\n",
    "plt.ylabel('Frequency')\n",
    "plt.title('Histogram of digits in training set')\n",
    "plt.xticks(ind + width/2., ('0','1', '2', '3', '4', '5','6','7','8','9'))\n",
    "plt.yscale('log')\n",
    "plt.show()"
   ]
  },
  {
   "cell_type": "code",
   "execution_count": 20,
   "metadata": {},
   "outputs": [
    {
     "data": {
      "image/png": "[encoded data removed]",
      "text/plain": [
       "<matplotlib.figure.Figure at 0x25df883a6d8>"
      ]
     },
     "metadata": {},
     "output_type": "display_data"
    }
   ],
   "source": [
    "# plot histogram of characters in test set\n",
    "ind = np.array([0,1,2,3,4,5,6,7,8,9])   # the x locations for the groups\n",
    "width = 0.75       # the width of the bars: can also be len(x) sequence\n",
    "\n",
    "p1 = plt.bar(ind, te_freqs_d, 0.75, color='b')\n",
    "plt.xlabel('Character')\n",
    "plt.ylabel('Frequency')\n",
    "plt.title('Histogram of digits in testing set')\n",
    "plt.xticks(ind + width/2., ('0','1', '2', '3', '4', '5','6','7','8','9'))\n",
    "plt.yscale('log')\n",
    "plt.show()"
   ]
  },
  {
   "cell_type": "code",
   "execution_count": 21,
   "metadata": {},
   "outputs": [
    {
     "data": {
      "image/png": "[encoded data removed]",
      "text/plain": [
       "<matplotlib.figure.Figure at 0x25df895bcc0>"
      ]
     },
     "metadata": {},
     "output_type": "display_data"
    }
   ],
   "source": [
    "# plot histogram of characters in extra set\n",
    "ind = np.array([0,1,2,3,4,5,6,7,8,9])   # the x locations for the groups\n",
    "width = 0.75       # the width of the bars: can also be len(x) sequence\n",
    "\n",
    "p1 = plt.bar(ind, te_freqs_d, 0.75, color='r')\n",
    "plt.xlabel('Character')\n",
    "plt.ylabel('Frequency')\n",
    "plt.title('Histogram of digits in extra set')\n",
    "plt.xticks(ind + width/2., ('0','1', '2', '3', '4', '5','6','7','8','9'))\n",
    "plt.yscale('log')\n",
    "plt.show()"
   ]
  },
  {
   "cell_type": "code",
   "execution_count": 23,
   "metadata": {},
   "outputs": [
    {
     "data": {
      "image/png": "[encoded data removed]",
      "text/plain": [
       "<matplotlib.figure.Figure at 0x25deb5dfd68>"
      ]
     },
     "metadata": {},
     "output_type": "display_data"
    }
   ],
   "source": [
    "# plot earlier selected indexes\n",
    "for my_idx in range(len(my_arr)):\n",
    "    filename=str(my_arr[my_idx])+'.png'\n",
    "    fpath=os.path.join('extra', filename)\n",
    "    my_img=Image.open(fpath)\n",
    "    \n",
    "    #plt.subplot(my_idx/3+1, 1, my_idx+1)\n",
    "    plt.subplot(221+my_idx/3)\n",
    "    imgplot=plt.imshow(my_img,cmap='Greys_r')\n",
    "    #print(fpath)\n",
    "    #time.sleep(1)\n",
    "plt.show()"
   ]
  },
  {
   "cell_type": "code",
   "execution_count": 26,
   "metadata": {},
   "outputs": [],
   "source": [
    "# function that creates dataset/labels from the images dictionary\n",
    "# the dataset has 3 output channels\n",
    "# processess images with character lengths <=5\n",
    "import re\n",
    "img_size=32\n",
    "def get_my_color_dataset(mystruct, dir_name):\n",
    "    mykeys = mystruct.keys()\n",
    "    dataset = np.ndarray([len(mykeys),img_size,img_size,3],dtype='float32')\n",
    "    labels = np.ones([len(mykeys),6], dtype=int) * 10 # default is ten\n",
    "    #print(labels[22])\n",
    "    for idx in mykeys:\n",
    "        tmpdict=mystruct[idx]\n",
    "        filename=tmpdict['name']\n",
    "        label_list=tmpdict['label']\n",
    "        iddx =int(re.sub(r'[a-z.]', '', idx))\n",
    "        #process image if label_length is <= 5\n",
    "        if len(label_list)<=5:\n",
    "            #populate labels\n",
    "            for jdx in range(len(label_list)):\n",
    "                labels[iddx,jdx+1]=label_list[jdx]\n",
    "            labels[iddx,0]=len(label_list)\n",
    "            #print(labels[iddx])\n",
    "            #populate dataset\n",
    "            fpath=os.path.join(dir_name, filename)#dpath+filename\n",
    "            fpng=Image.open(fpath)\n",
    "            #fpng=fpng.convert('L')\n",
    "            fpng_crop=fpng.crop((tmpdict['left'],tmpdict['top'],tmpdict['right'],tmpdict['bottom']))\n",
    "            fpng_resized = fpng_crop.resize((img_size,img_size),Image.BICUBIC)\n",
    "            fpng_data=np.array(fpng_resized, dtype='float32')\n",
    "            #fpng_data = np.dot(np.array(fpng_data, dtype='float32'), [[0.2989],[0.5870],[0.1140]])\n",
    "            fpng_mean=np.mean(fpng_data, dtype='float32')\n",
    "            fpng_std = np.std(fpng_data, dtype='float32', ddof=1)\n",
    "            if fpng_std < 1e-4:\n",
    "               fpng_std=1.0\n",
    "            fpng_data=(fpng_data-fpng_mean)/fpng_std\n",
    "            dataset[iddx,:,:]=fpng_data[:,:]\n",
    "        else:\n",
    "            print(tmpdict)\n",
    "\n",
    "    return dataset, labels"
   ]
  },
  {
   "cell_type": "raw",
   "metadata": {
    "scrolled": true
   },
   "source": [
    "# remove outlier from train dataset\n",
    "print('length of train dataset before delete: ',len(train_dict.keys()))\n",
    "del train_dict['29930.png']  #delete it twice  original length of train dataset is 33402 \n",
    "print('length of train dataset after delete: ',len(train_dict.keys()))"
   ]
  },
  {
   "cell_type": "code",
   "execution_count": 27,
   "metadata": {
    "collapsed": true
   },
   "outputs": [
    {
     "ename": "KeyboardInterrupt",
     "evalue": "",
     "output_type": "error",
     "traceback": [
      "\u001b[1;31m---------------------------------------------------------------------------\u001b[0m",
      "\u001b[1;31mKeyboardInterrupt\u001b[0m                         Traceback (most recent call last)",
      "\u001b[1;32m<ipython-input-27-885a31b1c93f>\u001b[0m in \u001b[0;36m<module>\u001b[1;34m()\u001b[0m\n\u001b[0;32m      1\u001b[0m \u001b[1;31m# create datasets fast then before\u001b[0m\u001b[1;33m\u001b[0m\u001b[1;33m\u001b[0m\u001b[0m\n\u001b[1;32m----> 2\u001b[1;33m \u001b[0mtrain_my_dataset\u001b[0m\u001b[1;33m,\u001b[0m \u001b[0mtrain_my_labels\u001b[0m \u001b[1;33m=\u001b[0m \u001b[0mget_my_color_dataset\u001b[0m\u001b[1;33m(\u001b[0m\u001b[0mtrain_dict\u001b[0m\u001b[1;33m,\u001b[0m \u001b[0mtrain_dir\u001b[0m\u001b[1;33m)\u001b[0m\u001b[1;33m\u001b[0m\u001b[0m\n\u001b[0m\u001b[0;32m      3\u001b[0m \u001b[0mtest_my_dataset\u001b[0m\u001b[1;33m,\u001b[0m \u001b[0mtest_my_labels\u001b[0m \u001b[1;33m=\u001b[0m \u001b[0mget_my_color_dataset\u001b[0m\u001b[1;33m(\u001b[0m\u001b[0mtest_dict\u001b[0m\u001b[1;33m,\u001b[0m \u001b[0mtest_dir\u001b[0m\u001b[1;33m)\u001b[0m\u001b[1;33m\u001b[0m\u001b[0m\n\u001b[0;32m      4\u001b[0m \u001b[0mextra_my_dataset\u001b[0m\u001b[1;33m,\u001b[0m \u001b[0mextra_my_labels\u001b[0m \u001b[1;33m=\u001b[0m \u001b[0mget_my_color_dataset\u001b[0m\u001b[1;33m(\u001b[0m\u001b[0mextra_dict\u001b[0m\u001b[1;33m,\u001b[0m \u001b[0mextra_dir\u001b[0m\u001b[1;33m)\u001b[0m\u001b[1;33m\u001b[0m\u001b[0m\n",
      "\u001b[1;32m<ipython-input-26-eb82f3292b40>\u001b[0m in \u001b[0;36mget_my_color_dataset\u001b[1;34m(mystruct, dir_name)\u001b[0m\n\u001b[0;32m     25\u001b[0m             \u001b[0mfpng\u001b[0m\u001b[1;33m=\u001b[0m\u001b[0mImage\u001b[0m\u001b[1;33m.\u001b[0m\u001b[0mopen\u001b[0m\u001b[1;33m(\u001b[0m\u001b[0mfpath\u001b[0m\u001b[1;33m)\u001b[0m\u001b[1;33m\u001b[0m\u001b[0m\n\u001b[0;32m     26\u001b[0m             \u001b[1;31m#fpng=fpng.convert('L')\u001b[0m\u001b[1;33m\u001b[0m\u001b[1;33m\u001b[0m\u001b[0m\n\u001b[1;32m---> 27\u001b[1;33m             \u001b[0mfpng_crop\u001b[0m\u001b[1;33m=\u001b[0m\u001b[0mfpng\u001b[0m\u001b[1;33m.\u001b[0m\u001b[0mcrop\u001b[0m\u001b[1;33m(\u001b[0m\u001b[1;33m(\u001b[0m\u001b[0mtmpdict\u001b[0m\u001b[1;33m[\u001b[0m\u001b[1;34m'left'\u001b[0m\u001b[1;33m]\u001b[0m\u001b[1;33m,\u001b[0m\u001b[0mtmpdict\u001b[0m\u001b[1;33m[\u001b[0m\u001b[1;34m'top'\u001b[0m\u001b[1;33m]\u001b[0m\u001b[1;33m,\u001b[0m\u001b[0mtmpdict\u001b[0m\u001b[1;33m[\u001b[0m\u001b[1;34m'right'\u001b[0m\u001b[1;33m]\u001b[0m\u001b[1;33m,\u001b[0m\u001b[0mtmpdict\u001b[0m\u001b[1;33m[\u001b[0m\u001b[1;34m'bottom'\u001b[0m\u001b[1;33m]\u001b[0m\u001b[1;33m)\u001b[0m\u001b[1;33m)\u001b[0m\u001b[1;33m\u001b[0m\u001b[0m\n\u001b[0m\u001b[0;32m     28\u001b[0m             \u001b[0mfpng_resized\u001b[0m \u001b[1;33m=\u001b[0m \u001b[0mfpng_crop\u001b[0m\u001b[1;33m.\u001b[0m\u001b[0mresize\u001b[0m\u001b[1;33m(\u001b[0m\u001b[1;33m(\u001b[0m\u001b[0mimg_size\u001b[0m\u001b[1;33m,\u001b[0m\u001b[0mimg_size\u001b[0m\u001b[1;33m)\u001b[0m\u001b[1;33m,\u001b[0m\u001b[0mImage\u001b[0m\u001b[1;33m.\u001b[0m\u001b[0mBICUBIC\u001b[0m\u001b[1;33m)\u001b[0m\u001b[1;33m\u001b[0m\u001b[0m\n\u001b[0;32m     29\u001b[0m             \u001b[0mfpng_data\u001b[0m\u001b[1;33m=\u001b[0m\u001b[0mnp\u001b[0m\u001b[1;33m.\u001b[0m\u001b[0marray\u001b[0m\u001b[1;33m(\u001b[0m\u001b[0mfpng_resized\u001b[0m\u001b[1;33m,\u001b[0m \u001b[0mdtype\u001b[0m\u001b[1;33m=\u001b[0m\u001b[1;34m'float32'\u001b[0m\u001b[1;33m)\u001b[0m\u001b[1;33m\u001b[0m\u001b[0m\n",
      "\u001b[1;32md:\\ProgramData\\Anaconda3\\lib\\site-packages\\PIL\\Image.py\u001b[0m in \u001b[0;36mcrop\u001b[1;34m(self, box)\u001b[0m\n\u001b[0;32m   1042\u001b[0m         \"\"\"\n\u001b[0;32m   1043\u001b[0m \u001b[1;33m\u001b[0m\u001b[0m\n\u001b[1;32m-> 1044\u001b[1;33m         \u001b[0mself\u001b[0m\u001b[1;33m.\u001b[0m\u001b[0mload\u001b[0m\u001b[1;33m(\u001b[0m\u001b[1;33m)\u001b[0m\u001b[1;33m\u001b[0m\u001b[0m\n\u001b[0m\u001b[0;32m   1045\u001b[0m         \u001b[1;32mif\u001b[0m \u001b[0mbox\u001b[0m \u001b[1;32mis\u001b[0m \u001b[1;32mNone\u001b[0m\u001b[1;33m:\u001b[0m\u001b[1;33m\u001b[0m\u001b[0m\n\u001b[0;32m   1046\u001b[0m             \u001b[1;32mreturn\u001b[0m \u001b[0mself\u001b[0m\u001b[1;33m.\u001b[0m\u001b[0mcopy\u001b[0m\u001b[1;33m(\u001b[0m\u001b[1;33m)\u001b[0m\u001b[1;33m\u001b[0m\u001b[0m\n",
      "\u001b[1;32md:\\ProgramData\\Anaconda3\\lib\\site-packages\\PIL\\ImageFile.py\u001b[0m in \u001b[0;36mload\u001b[1;34m(self)\u001b[0m\n\u001b[0;32m    232\u001b[0m \u001b[1;33m\u001b[0m\u001b[0m\n\u001b[0;32m    233\u001b[0m                         \u001b[0mb\u001b[0m \u001b[1;33m=\u001b[0m \u001b[0mb\u001b[0m \u001b[1;33m+\u001b[0m \u001b[0ms\u001b[0m\u001b[1;33m\u001b[0m\u001b[0m\n\u001b[1;32m--> 234\u001b[1;33m                         \u001b[0mn\u001b[0m\u001b[1;33m,\u001b[0m \u001b[0merr_code\u001b[0m \u001b[1;33m=\u001b[0m \u001b[0mdecoder\u001b[0m\u001b[1;33m.\u001b[0m\u001b[0mdecode\u001b[0m\u001b[1;33m(\u001b[0m\u001b[0mb\u001b[0m\u001b[1;33m)\u001b[0m\u001b[1;33m\u001b[0m\u001b[0m\n\u001b[0m\u001b[0;32m    235\u001b[0m                         \u001b[1;32mif\u001b[0m \u001b[0mn\u001b[0m \u001b[1;33m<\u001b[0m \u001b[1;36m0\u001b[0m\u001b[1;33m:\u001b[0m\u001b[1;33m\u001b[0m\u001b[0m\n\u001b[0;32m    236\u001b[0m                             \u001b[1;32mbreak\u001b[0m\u001b[1;33m\u001b[0m\u001b[0m\n",
      "\u001b[1;31mKeyboardInterrupt\u001b[0m: "
     ]
    }
   ],
   "source": [
    "# create datasets fast then before\n",
    "train_my_dataset, train_my_labels = get_my_color_dataset(train_dict, train_dir)\n",
    "test_my_dataset, test_my_labels = get_my_color_dataset(test_dict, test_dir)\n",
    "extra_my_dataset, extra_my_labels = get_my_color_dataset(extra_dict, extra_dir)"
   ]
  },
  {
   "cell_type": "code",
   "execution_count": 30,
   "metadata": {
    "scrolled": true
   },
   "outputs": [
    {
     "name": "stdout",
     "output_type": "stream",
     "text": [
      "(33401, 32, 32, 3) (33401, 6)\n",
      "(13068, 32, 32, 3) (13068, 6)\n",
      "(202353, 32, 32, 3) (202353, 6)\n"
     ]
    }
   ],
   "source": [
    "# print dimensions of datasets\n",
    "print(train_my_dataset.shape, train_my_labels.shape)\n",
    "print(test_my_dataset.shape, test_my_labels.shape)\n",
    "print(extra_my_dataset.shape, extra_my_labels.shape)"
   ]
  },
  {
   "cell_type": "code",
   "execution_count": 32,
   "metadata": {
    "scrolled": true
   },
   "outputs": [
    {
     "data": {
      "image/png": "[encoded data removed]",
      "text/plain": [
       "<matplotlib.figure.Figure at 0x25df9f50dd8>"
      ]
     },
     "metadata": {},
     "output_type": "display_data"
    }
   ],
   "source": [
    "# plot first image (from train datset)\n",
    "img_test=train_my_dataset[0]\n",
    "imgplot = plt.imshow(img_test)"
   ]
  },
  {
   "cell_type": "code",
   "execution_count": 33,
   "metadata": {},
   "outputs": [
    {
     "name": "stdout",
     "output_type": "stream",
     "text": [
      "33401 13068 202353\n"
     ]
    }
   ],
   "source": [
    "# define a function to get number of pixels in the images dictionary\n",
    "def get_image_info(mydict):\n",
    "    pixels_list=[]\n",
    "    for ikey in mydict.keys():\n",
    "        tmp_dict=mydict[ikey]\n",
    "        pixels_list.append(tmp_dict['width']*tmp_dict['height'])\n",
    "\n",
    "    return pixels_list\n",
    "\n",
    "train_pixels_list = get_image_info(train_dict)\n",
    "test_pixels_list = get_image_info(test_dict)\n",
    "extra_pixels_list = get_image_info(extra_dict)\n",
    "\n",
    "print(len(train_pixels_list),len(test_pixels_list),len(extra_pixels_list))"
   ]
  },
  {
   "cell_type": "code",
   "execution_count": 34,
   "metadata": {},
   "outputs": [
    {
     "name": "stdout",
     "output_type": "stream",
     "text": [
      "11 83018\n",
      "33 25376\n",
      "17 49868\n"
     ]
    }
   ],
   "source": [
    "print(min(train_pixels_list), max(train_pixels_list))\n",
    "print(min(test_pixels_list),  max(test_pixels_list))\n",
    "print(min(extra_pixels_list), max(extra_pixels_list))"
   ]
  },
  {
   "cell_type": "code",
   "execution_count": 38,
   "metadata": {
    "scrolled": true
   },
   "outputs": [
    {
     "data": {
      "image/png": "[encoded data removed]",
      "text/plain": [
       "<matplotlib.figure.Figure at 0x25df9f68f60>"
      ]
     },
     "metadata": {},
     "output_type": "display_data"
    }
   ],
   "source": [
    "# plot histogram of number of pixels in the train data\n",
    "n, bins, patches = plt.hist(train_pixels_list, 100, normed=0, facecolor='g', alpha=0.75)\n",
    "plt.xlabel('Num of pixels')\n",
    "plt.ylabel('Num of Images')\n",
    "plt.title('Histogram of # of pixels in train dataset')\n",
    "plt.axis([0, 84000, 0, 100])\n",
    "plt.grid(True)\n",
    "#plt.yscale('log')\n",
    "plt.show()"
   ]
  },
  {
   "cell_type": "code",
   "execution_count": 39,
   "metadata": {},
   "outputs": [
    {
     "data": {
      "image/png": "[encoded data removed]",
      "text/plain": [
       "<matplotlib.figure.Figure at 0x25df88d3a20>"
      ]
     },
     "metadata": {},
     "output_type": "display_data"
    }
   ],
   "source": [
    "# plot histogram of number of pixels in the extra data\n",
    "n, bins, patches = plt.hist(extra_pixels_list, 100, normed=0, facecolor='r', alpha=0.75)\n",
    "\n",
    "\n",
    "plt.xlabel('Num of pixels')\n",
    "plt.ylabel('Num of Images')\n",
    "plt.title('Histogram of # of pixels in extra dataset')\n",
    "plt.axis([0, 10000, 0, 100000])\n",
    "plt.grid(True)\n",
    "#plt.yscale('log')\n",
    "plt.show()"
   ]
  },
  {
   "cell_type": "code",
   "execution_count": 40,
   "metadata": {},
   "outputs": [],
   "source": [
    "# merge train and extra datasets into one\n",
    "all_my_dataset=np.concatenate((train_my_dataset[:,:,:,:],extra_my_dataset[:,:,:,:]),axis=0)\n",
    "all_my_labels=np.concatenate((train_my_labels[:,:],extra_my_labels[:,:]),axis=0)"
   ]
  },
  {
   "cell_type": "code",
   "execution_count": 41,
   "metadata": {},
   "outputs": [],
   "source": [
    "# remove extra and train datasets/labels to free up memory\n",
    "del train_my_dataset\n",
    "del train_my_labels\n",
    "del extra_my_dataset\n",
    "del extra_my_labels"
   ]
  },
  {
   "cell_type": "code",
   "execution_count": 42,
   "metadata": {},
   "outputs": [],
   "source": [
    "# prep for creating validation and train datasets from themerged dataset\n",
    "# shuffle index from merge datasets\n",
    "# assign 1st 6000 to validation dataset/labels\n",
    "# assign rest to train dataset/labels\n",
    "len_all=len(all_my_labels)\n",
    "shuffle_all = np.arange(len_all)\n",
    "np.random.shuffle(shuffle_all)\n",
    "valid_index=shuffle_all[0:6000]\n",
    "train_index=shuffle_all[6000:]"
   ]
  },
  {
   "cell_type": "code",
   "execution_count": 43,
   "metadata": {},
   "outputs": [
    {
     "name": "stdout",
     "output_type": "stream",
     "text": [
      "(229754, 32, 32, 3) (229754, 6)\n",
      "(13068, 32, 32, 3) (13068, 6)\n",
      "(6000, 32, 32, 3) (6000, 6)\n"
     ]
    }
   ],
   "source": [
    "# create validation and train datasets from merged dataset/labels\n",
    "valid_dataset = all_my_dataset[valid_index,:,:,:]\n",
    "valid_labels = all_my_labels[valid_index,:]\n",
    "train_dataset_t = all_my_dataset[train_index,:,:,:]\n",
    "train_labels_t = all_my_labels[train_index,:]\n",
    "\n",
    "print(train_dataset_t.shape, train_labels_t.shape)\n",
    "print(test_my_dataset.shape, test_my_labels.shape)\n",
    "print(valid_dataset.shape, valid_labels.shape)"
   ]
  },
  {
   "cell_type": "code",
   "execution_count": 44,
   "metadata": {},
   "outputs": [],
   "source": [
    "# remove merged dataset/labels to free up memory\n",
    "del all_my_dataset\n",
    "del all_my_labels"
   ]
  },
  {
   "cell_type": "code",
   "execution_count": 45,
   "metadata": {},
   "outputs": [
    {
     "name": "stdout",
     "output_type": "stream",
     "text": [
      "Compressed pickle size: 160893490\n",
      "Compressed pickle size: 73872276\n"
     ]
    }
   ],
   "source": [
    "# pickle test, train,validation data to different files as they are big\n",
    "\n",
    "pickle_file_test = 'svhn_my_all_color_test.pickle'\n",
    "try:\n",
    "  f = open(pickle_file_test, 'wb')\n",
    "  save = {\n",
    "    'test_dataset': test_my_dataset,\n",
    "    'test_labels': test_my_labels\n",
    "    }\n",
    "  pickle.dump(save, f, pickle.HIGHEST_PROTOCOL)\n",
    "  f.close()\n",
    "except Exception as e:\n",
    "  print('Unable to save data to', pickle_file_test, ':', e)\n",
    "  raise\n",
    "    \n",
    "statinfo = os.stat(pickle_file_test)\n",
    "print('Compressed pickle size:', statinfo.st_size)\n",
    "\n",
    "pickle_file_valid = 'svhn_my_all_color_valid.pickle'\n",
    "\n",
    "try:\n",
    "  f = open(pickle_file_valid, 'wb')\n",
    "  save = {\n",
    "    'valid_dataset': valid_dataset,\n",
    "    'valid_labels': valid_labels,\n",
    "    }\n",
    "  pickle.dump(save, f, pickle.HIGHEST_PROTOCOL)\n",
    "  f.close()\n",
    "except Exception as e:\n",
    "  print('Unable to save data to', pickle_file_valid, ':', e)\n",
    "  raise\n",
    "    \n",
    "statinfo = os.stat(pickle_file_valid)\n",
    "print('Compressed pickle size:', statinfo.st_size)\n"
   ]
  },
  {
   "cell_type": "code",
   "execution_count": 46,
   "metadata": {},
   "outputs": [],
   "source": [
    "# remove pickled datasets/labels to free up memory\n",
    "del test_my_dataset\n",
    "del test_my_labels\n",
    "del valid_dataset\n",
    "del valid_labels"
   ]
  },
  {
   "cell_type": "code",
   "execution_count": 47,
   "metadata": {},
   "outputs": [
    {
     "name": "stdout",
     "output_type": "stream",
     "text": [
      "Compressed pickle size: 2913842715\n"
     ]
    }
   ],
   "source": [
    "# pickle train data\n",
    "\n",
    "pickle_file_train = 'svhn_my_all_color_train.pickle'\n",
    "try:\n",
    "  f = open(pickle_file_train, 'wb')\n",
    "  save = {\n",
    "    'train_dataset': train_dataset_t,\n",
    "    'train_labels': train_labels_t\n",
    "    }\n",
    "  pickle.dump(save, f, 0)#pickle.HIGHEST_PROTOCOL)\n",
    "  f.close()\n",
    "except Exception as e:\n",
    "  print('Unable to save data to', pickle_file_train, ':', e)\n",
    "  raise\n",
    "    \n",
    "statinfo = os.stat(pickle_file_train)\n",
    "print('Compressed pickle size:', statinfo.st_size)\n"
   ]
  },
  {
   "cell_type": "code",
   "execution_count": null,
   "metadata": {},
   "outputs": [],
   "source": []
  }
 ],
 "metadata": {
  "kernelspec": {
   "display_name": "Python 3",
   "language": "python",
   "name": "python3"
  },
  "language_info": {
   "codemirror_mode": {
    "name": "ipython",
    "version": 3
   },
   "file_extension": ".py",
   "mimetype": "text/x-python",
   "name": "python",
   "nbconvert_exporter": "python",
   "pygments_lexer": "ipython3",
   "version": "3.6.3"
  }
 },
 "nbformat": 4,
 "nbformat_minor": 1
}
